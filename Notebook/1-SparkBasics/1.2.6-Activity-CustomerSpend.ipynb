{
 "cells": [
  {
   "cell_type": "markdown",
   "metadata": {},
   "source": [
    "# Activity: Customer Spend\n",
    "\n",
    "Task: Create a driver program that does the following:\n",
    "\n",
    "1. Split each comma-delimited line into fields\n",
    "2. Map each line to key/value pairs of customerID and dollar amount.\n",
    "3. Use `reduceByKey` to add up amount spent by customer ID.\n",
    "4. `collect()` the results and print them."
   ]
  },
  {
   "cell_type": "code",
   "execution_count": 1,
   "metadata": {},
   "outputs": [
    {
     "data": {
      "text/plain": [
       "Intitializing Scala interpreter ..."
      ]
     },
     "metadata": {},
     "output_type": "display_data"
    },
    {
     "data": {
      "text/plain": [
       "Spark Web UI available at http://192.168.1.19:4040\n",
       "SparkContext available as 'sc' (version = 2.4.5, master = local[*], app id = local-1588961514825)\n",
       "SparkSession available as 'spark'\n"
      ]
     },
     "metadata": {},
     "output_type": "display_data"
    },
    {
     "data": {
      "text/plain": [
       "res0: org.apache.spark.sql.SparkSession = org.apache.spark.sql.SparkSession@6a402e0b\n"
      ]
     },
     "execution_count": 1,
     "metadata": {},
     "output_type": "execute_result"
    }
   ],
   "source": [
    "spark"
   ]
  },
  {
   "cell_type": "markdown",
   "metadata": {},
   "source": [
    "# Data import"
   ]
  },
  {
   "cell_type": "code",
   "execution_count": 2,
   "metadata": {},
   "outputs": [
    {
     "data": {
      "text/plain": [
       "spend: org.apache.spark.rdd.RDD[String] = ../../data/customer-orders.csv MapPartitionsRDD[1] at textFile at <console>:25\n"
      ]
     },
     "execution_count": 2,
     "metadata": {},
     "output_type": "execute_result"
    }
   ],
   "source": [
    "val spend = sc.textFile(\"../../data/customer-orders.csv\")"
   ]
  },
  {
   "cell_type": "markdown",
   "metadata": {},
   "source": [
    "Take a peek at some of the rows"
   ]
  },
  {
   "cell_type": "code",
   "execution_count": 4,
   "metadata": {},
   "outputs": [
    {
     "name": "stdout",
     "output_type": "stream",
     "text": [
      "44,8602,37.19\n",
      "35,5368,65.89\n",
      "2,3391,40.64\n",
      "47,6694,14.98\n",
      "29,680,13.08\n"
     ]
    }
   ],
   "source": [
    "spend.take(5).foreach(println)"
   ]
  },
  {
   "cell_type": "markdown",
   "metadata": {},
   "source": [
    "**NOTE**: From the source, the first column is the `customerID` while the third column is the `spend`. We form the key/value pair based on these info.\n",
    "\n",
    "Because we are importing this file as a `csv`, we need covert the entries into numerical types."
   ]
  },
  {
   "cell_type": "code",
   "execution_count": 11,
   "metadata": {},
   "outputs": [
    {
     "data": {
      "text/plain": [
       "parseLine: (row: String)(Int, Float)\n"
      ]
     },
     "execution_count": 11,
     "metadata": {},
     "output_type": "execute_result"
    }
   ],
   "source": [
    "def parseLine(row:String)={\n",
    "    val fields = row.split(\",\")\n",
    "    val customerID = fields(0)\n",
    "    val spend = fields(2)\n",
    "    (customerID.toInt, spend.toFloat) //Conver to numeric type\n",
    "}"
   ]
  },
  {
   "cell_type": "code",
   "execution_count": 13,
   "metadata": {},
   "outputs": [
    {
     "data": {
      "text/plain": [
       "customerSpend: org.apache.spark.rdd.RDD[(Int, Float)] = MapPartitionsRDD[4] at map at <console>:28\n"
      ]
     },
     "execution_count": 13,
     "metadata": {},
     "output_type": "execute_result"
    }
   ],
   "source": [
    "val customerSpend = spend.map(parseLine(_))"
   ]
  },
  {
   "cell_type": "code",
   "execution_count": 14,
   "metadata": {},
   "outputs": [
    {
     "data": {
      "text/plain": [
       "customerTotalSpend: org.apache.spark.rdd.RDD[(Int, Float)] = ShuffledRDD[5] at reduceByKey at <console>:26\n"
      ]
     },
     "execution_count": 14,
     "metadata": {},
     "output_type": "execute_result"
    }
   ],
   "source": [
    "val customerTotalSpend = customerSpend.reduceByKey((x,y)=> x+y)"
   ]
  },
  {
   "cell_type": "code",
   "execution_count": 18,
   "metadata": {},
   "outputs": [
    {
     "data": {
      "text/plain": [
       "results: Array[(Int, Float)] = Array((34,5330.7993), (52,5245.0605), (96,3924.23), (4,4815.05), (16,4979.0605), (82,4812.49), (66,4681.92), (28,5000.7104), (54,6065.39), (80,4727.86), (98,4297.26), (30,4990.72), (14,4735.0303), (50,4517.2695), (36,4278.05), (24,5259.92), (64,5288.69), (92,5379.281), (74,4647.1304), (90,5290.41), (72,5337.4395), (70,5368.2505), (18,4921.27), (12,4664.59), (38,4898.461), (20,4836.86), (78,4524.51), (10,4819.6997), (94,4475.5703), (84,4652.9395), (56,4701.02), (76,4904.2104), (22,5019.449), (46,5963.111), (48,4384.3296), (32,5496.0503), (0,5524.9497), (62,5253.3213), (42,5696.8403), (40,5186.4297), (6,5397.8794), (8,5517.24), (86,4908.809), (58,5437.7305), (44,4756.8906), (88,4830.55), (60,5040.7095), (26,5250.4004), (68,6375.45), (2,5994.591), (13,4367.62..."
      ]
     },
     "execution_count": 18,
     "metadata": {},
     "output_type": "execute_result"
    }
   ],
   "source": [
    "val results = customerTotalSpend.collect()"
   ]
  },
  {
   "cell_type": "code",
   "execution_count": 19,
   "metadata": {},
   "outputs": [
    {
     "name": "stdout",
     "output_type": "stream",
     "text": [
      "Customer: 34, Total_Spend: 5330.7993\n",
      "Customer: 52, Total_Spend: 5245.0605\n",
      "Customer: 96, Total_Spend: 3924.23\n",
      "Customer: 4, Total_Spend: 4815.05\n",
      "Customer: 16, Total_Spend: 4979.0605\n",
      "Customer: 82, Total_Spend: 4812.49\n",
      "Customer: 66, Total_Spend: 4681.92\n",
      "Customer: 28, Total_Spend: 5000.7104\n",
      "Customer: 54, Total_Spend: 6065.39\n",
      "Customer: 80, Total_Spend: 4727.86\n",
      "Customer: 98, Total_Spend: 4297.26\n",
      "Customer: 30, Total_Spend: 4990.72\n",
      "Customer: 14, Total_Spend: 4735.0303\n",
      "Customer: 50, Total_Spend: 4517.2695\n",
      "Customer: 36, Total_Spend: 4278.05\n",
      "Customer: 24, Total_Spend: 5259.92\n",
      "Customer: 64, Total_Spend: 5288.69\n",
      "Customer: 92, Total_Spend: 5379.281\n",
      "Customer: 74, Total_Spend: 4647.1304\n",
      "Customer: 90, Total_Spend: 5290.41\n",
      "Customer: 72, Total_Spend: 5337.4395\n",
      "Customer: 70, Total_Spend: 5368.2505\n",
      "Customer: 18, Total_Spend: 4921.27\n",
      "Customer: 12, Total_Spend: 4664.59\n",
      "Customer: 38, Total_Spend: 4898.461\n",
      "Customer: 20, Total_Spend: 4836.86\n",
      "Customer: 78, Total_Spend: 4524.51\n",
      "Customer: 10, Total_Spend: 4819.6997\n",
      "Customer: 94, Total_Spend: 4475.5703\n",
      "Customer: 84, Total_Spend: 4652.9395\n",
      "Customer: 56, Total_Spend: 4701.02\n",
      "Customer: 76, Total_Spend: 4904.2104\n",
      "Customer: 22, Total_Spend: 5019.449\n",
      "Customer: 46, Total_Spend: 5963.111\n",
      "Customer: 48, Total_Spend: 4384.3296\n",
      "Customer: 32, Total_Spend: 5496.0503\n",
      "Customer: 0, Total_Spend: 5524.9497\n",
      "Customer: 62, Total_Spend: 5253.3213\n",
      "Customer: 42, Total_Spend: 5696.8403\n",
      "Customer: 40, Total_Spend: 5186.4297\n",
      "Customer: 6, Total_Spend: 5397.8794\n",
      "Customer: 8, Total_Spend: 5517.24\n",
      "Customer: 86, Total_Spend: 4908.809\n",
      "Customer: 58, Total_Spend: 5437.7305\n",
      "Customer: 44, Total_Spend: 4756.8906\n",
      "Customer: 88, Total_Spend: 4830.55\n",
      "Customer: 60, Total_Spend: 5040.7095\n",
      "Customer: 26, Total_Spend: 5250.4004\n",
      "Customer: 68, Total_Spend: 6375.45\n",
      "Customer: 2, Total_Spend: 5994.591\n",
      "Customer: 13, Total_Spend: 4367.62\n",
      "Customer: 19, Total_Spend: 5059.4307\n",
      "Customer: 39, Total_Spend: 6193.1104\n",
      "Customer: 81, Total_Spend: 5112.71\n",
      "Customer: 71, Total_Spend: 5995.66\n",
      "Customer: 55, Total_Spend: 5298.09\n",
      "Customer: 29, Total_Spend: 5032.5303\n",
      "Customer: 79, Total_Spend: 3790.5698\n",
      "Customer: 65, Total_Spend: 5140.3496\n",
      "Customer: 11, Total_Spend: 5152.29\n",
      "Customer: 35, Total_Spend: 5155.42\n",
      "Customer: 57, Total_Spend: 4628.3994\n",
      "Customer: 51, Total_Spend: 4975.2197\n",
      "Customer: 37, Total_Spend: 4735.2\n",
      "Customer: 75, Total_Spend: 4178.5\n",
      "Customer: 45, Total_Spend: 3309.3804\n",
      "Customer: 1, Total_Spend: 4958.5996\n",
      "Customer: 89, Total_Spend: 4851.4795\n",
      "Customer: 63, Total_Spend: 5415.15\n",
      "Customer: 83, Total_Spend: 4635.8003\n",
      "Customer: 17, Total_Spend: 5032.6797\n",
      "Customer: 9, Total_Spend: 5322.6494\n",
      "Customer: 49, Total_Spend: 4394.5996\n",
      "Customer: 43, Total_Spend: 5368.83\n",
      "Customer: 99, Total_Spend: 4172.29\n",
      "Customer: 41, Total_Spend: 5637.619\n",
      "Customer: 61, Total_Spend: 5497.48\n",
      "Customer: 15, Total_Spend: 5413.5103\n",
      "Customer: 21, Total_Spend: 4707.41\n",
      "Customer: 47, Total_Spend: 4316.3\n",
      "Customer: 77, Total_Spend: 4327.7305\n",
      "Customer: 53, Total_Spend: 4945.3\n",
      "Customer: 97, Total_Spend: 5977.1895\n",
      "Customer: 25, Total_Spend: 5057.6104\n",
      "Customer: 95, Total_Spend: 4876.8394\n",
      "Customer: 59, Total_Spend: 5642.8906\n",
      "Customer: 73, Total_Spend: 6206.199\n",
      "Customer: 27, Total_Spend: 4915.8896\n",
      "Customer: 93, Total_Spend: 5265.75\n",
      "Customer: 33, Total_Spend: 5254.659\n",
      "Customer: 23, Total_Spend: 4042.65\n",
      "Customer: 67, Total_Spend: 4505.79\n",
      "Customer: 69, Total_Spend: 5123.01\n",
      "Customer: 3, Total_Spend: 4659.63\n",
      "Customer: 7, Total_Spend: 4755.0693\n",
      "Customer: 85, Total_Spend: 5503.4307\n",
      "Customer: 91, Total_Spend: 4642.2603\n",
      "Customer: 31, Total_Spend: 4765.05\n",
      "Customer: 87, Total_Spend: 5206.3994\n",
      "Customer: 5, Total_Spend: 4561.0703\n"
     ]
    }
   ],
   "source": [
    "for (result <- results){\n",
    "    val customerID = result._1\n",
    "    val totalSpend = result._2\n",
    "    println(s\"Customer: $customerID, Total_Spend: $totalSpend\")\n",
    "}"
   ]
  },
  {
   "cell_type": "markdown",
   "metadata": {},
   "source": [
    "Sort the results by decreasing spend."
   ]
  },
  {
   "cell_type": "code",
   "execution_count": 22,
   "metadata": {},
   "outputs": [
    {
     "data": {
      "text/plain": [
       "results: Array[(Int, Float)] = Array((68,6375.45), (73,6206.199), (39,6193.1104), (54,6065.39), (71,5995.66), (2,5994.591), (97,5977.1895), (46,5963.111), (42,5696.8403), (59,5642.8906), (41,5637.619), (0,5524.9497), (8,5517.24), (85,5503.4307), (61,5497.48), (32,5496.0503), (58,5437.7305), (63,5415.15), (15,5413.5103), (6,5397.8794), (92,5379.281), (43,5368.83), (70,5368.2505), (72,5337.4395), (34,5330.7993), (9,5322.6494), (55,5298.09), (90,5290.41), (64,5288.69), (93,5265.75), (24,5259.92), (33,5254.659), (62,5253.3213), (26,5250.4004), (52,5245.0605), (87,5206.3994), (40,5186.4297), (35,5155.42), (11,5152.29), (65,5140.3496), (69,5123.01), (81,5112.71), (19,5059.4307), (25,5057.6104), (60,5040.7095), (17,5032.6797), (29,5032.5303), (22,5019.449), (28,5000.7104), (30,4990.72), (16,49..."
      ]
     },
     "execution_count": 22,
     "metadata": {},
     "output_type": "execute_result"
    }
   ],
   "source": [
    "val results = customerTotalSpend.sortBy(_._2, ascending=false).collect()"
   ]
  },
  {
   "cell_type": "code",
   "execution_count": 23,
   "metadata": {},
   "outputs": [
    {
     "name": "stdout",
     "output_type": "stream",
     "text": [
      "Customer: 68, Total_Spend: 6375.45\n",
      "Customer: 73, Total_Spend: 6206.199\n",
      "Customer: 39, Total_Spend: 6193.1104\n",
      "Customer: 54, Total_Spend: 6065.39\n",
      "Customer: 71, Total_Spend: 5995.66\n",
      "Customer: 2, Total_Spend: 5994.591\n",
      "Customer: 97, Total_Spend: 5977.1895\n",
      "Customer: 46, Total_Spend: 5963.111\n",
      "Customer: 42, Total_Spend: 5696.8403\n",
      "Customer: 59, Total_Spend: 5642.8906\n",
      "Customer: 41, Total_Spend: 5637.619\n",
      "Customer: 0, Total_Spend: 5524.9497\n",
      "Customer: 8, Total_Spend: 5517.24\n",
      "Customer: 85, Total_Spend: 5503.4307\n",
      "Customer: 61, Total_Spend: 5497.48\n",
      "Customer: 32, Total_Spend: 5496.0503\n",
      "Customer: 58, Total_Spend: 5437.7305\n",
      "Customer: 63, Total_Spend: 5415.15\n",
      "Customer: 15, Total_Spend: 5413.5103\n",
      "Customer: 6, Total_Spend: 5397.8794\n",
      "Customer: 92, Total_Spend: 5379.281\n",
      "Customer: 43, Total_Spend: 5368.83\n",
      "Customer: 70, Total_Spend: 5368.2505\n",
      "Customer: 72, Total_Spend: 5337.4395\n",
      "Customer: 34, Total_Spend: 5330.7993\n",
      "Customer: 9, Total_Spend: 5322.6494\n",
      "Customer: 55, Total_Spend: 5298.09\n",
      "Customer: 90, Total_Spend: 5290.41\n",
      "Customer: 64, Total_Spend: 5288.69\n",
      "Customer: 93, Total_Spend: 5265.75\n",
      "Customer: 24, Total_Spend: 5259.92\n",
      "Customer: 33, Total_Spend: 5254.659\n",
      "Customer: 62, Total_Spend: 5253.3213\n",
      "Customer: 26, Total_Spend: 5250.4004\n",
      "Customer: 52, Total_Spend: 5245.0605\n",
      "Customer: 87, Total_Spend: 5206.3994\n",
      "Customer: 40, Total_Spend: 5186.4297\n",
      "Customer: 35, Total_Spend: 5155.42\n",
      "Customer: 11, Total_Spend: 5152.29\n",
      "Customer: 65, Total_Spend: 5140.3496\n",
      "Customer: 69, Total_Spend: 5123.01\n",
      "Customer: 81, Total_Spend: 5112.71\n",
      "Customer: 19, Total_Spend: 5059.4307\n",
      "Customer: 25, Total_Spend: 5057.6104\n",
      "Customer: 60, Total_Spend: 5040.7095\n",
      "Customer: 17, Total_Spend: 5032.6797\n",
      "Customer: 29, Total_Spend: 5032.5303\n",
      "Customer: 22, Total_Spend: 5019.449\n",
      "Customer: 28, Total_Spend: 5000.7104\n",
      "Customer: 30, Total_Spend: 4990.72\n",
      "Customer: 16, Total_Spend: 4979.0605\n",
      "Customer: 51, Total_Spend: 4975.2197\n",
      "Customer: 1, Total_Spend: 4958.5996\n",
      "Customer: 53, Total_Spend: 4945.3\n",
      "Customer: 18, Total_Spend: 4921.27\n",
      "Customer: 27, Total_Spend: 4915.8896\n",
      "Customer: 86, Total_Spend: 4908.809\n",
      "Customer: 76, Total_Spend: 4904.2104\n",
      "Customer: 38, Total_Spend: 4898.461\n",
      "Customer: 95, Total_Spend: 4876.8394\n",
      "Customer: 89, Total_Spend: 4851.4795\n",
      "Customer: 20, Total_Spend: 4836.86\n",
      "Customer: 88, Total_Spend: 4830.55\n",
      "Customer: 10, Total_Spend: 4819.6997\n",
      "Customer: 4, Total_Spend: 4815.05\n",
      "Customer: 82, Total_Spend: 4812.49\n",
      "Customer: 31, Total_Spend: 4765.05\n",
      "Customer: 44, Total_Spend: 4756.8906\n",
      "Customer: 7, Total_Spend: 4755.0693\n",
      "Customer: 37, Total_Spend: 4735.2\n",
      "Customer: 14, Total_Spend: 4735.0303\n",
      "Customer: 80, Total_Spend: 4727.86\n",
      "Customer: 21, Total_Spend: 4707.41\n",
      "Customer: 56, Total_Spend: 4701.02\n",
      "Customer: 66, Total_Spend: 4681.92\n",
      "Customer: 12, Total_Spend: 4664.59\n",
      "Customer: 3, Total_Spend: 4659.63\n",
      "Customer: 84, Total_Spend: 4652.9395\n",
      "Customer: 74, Total_Spend: 4647.1304\n",
      "Customer: 91, Total_Spend: 4642.2603\n",
      "Customer: 83, Total_Spend: 4635.8003\n",
      "Customer: 57, Total_Spend: 4628.3994\n",
      "Customer: 5, Total_Spend: 4561.0703\n",
      "Customer: 78, Total_Spend: 4524.51\n",
      "Customer: 50, Total_Spend: 4517.2695\n",
      "Customer: 67, Total_Spend: 4505.79\n",
      "Customer: 94, Total_Spend: 4475.5703\n",
      "Customer: 49, Total_Spend: 4394.5996\n",
      "Customer: 48, Total_Spend: 4384.3296\n",
      "Customer: 13, Total_Spend: 4367.62\n",
      "Customer: 77, Total_Spend: 4327.7305\n",
      "Customer: 47, Total_Spend: 4316.3\n",
      "Customer: 98, Total_Spend: 4297.26\n",
      "Customer: 36, Total_Spend: 4278.05\n",
      "Customer: 75, Total_Spend: 4178.5\n",
      "Customer: 99, Total_Spend: 4172.29\n",
      "Customer: 23, Total_Spend: 4042.65\n",
      "Customer: 96, Total_Spend: 3924.23\n",
      "Customer: 79, Total_Spend: 3790.5698\n",
      "Customer: 45, Total_Spend: 3309.3804\n"
     ]
    }
   ],
   "source": [
    "for (result <- results){\n",
    "    val customerID = result._1\n",
    "    val totalSpend = result._2\n",
    "    println(s\"Customer: $customerID, Total_Spend: $totalSpend\")\n",
    "}"
   ]
  },
  {
   "cell_type": "markdown",
   "metadata": {},
   "source": [
    "**OBSERVATIONS**: The highest spend correspond to customer 68 while the lower is Customer 45."
   ]
  },
  {
   "cell_type": "code",
   "execution_count": null,
   "metadata": {},
   "outputs": [],
   "source": []
  }
 ],
 "metadata": {
  "kernelspec": {
   "display_name": "spylon-kernel",
   "language": "scala",
   "name": "spylon-kernel"
  },
  "language_info": {
   "codemirror_mode": "text/x-scala",
   "file_extension": ".scala",
   "help_links": [
    {
     "text": "MetaKernel Magics",
     "url": "https://metakernel.readthedocs.io/en/latest/source/README.html"
    }
   ],
   "mimetype": "text/x-scala",
   "name": "scala",
   "pygments_lexer": "scala",
   "version": "0.4.1"
  }
 },
 "nbformat": 4,
 "nbformat_minor": 2
}
